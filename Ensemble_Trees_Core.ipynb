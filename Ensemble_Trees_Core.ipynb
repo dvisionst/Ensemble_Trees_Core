{
  "nbformat": 4,
  "nbformat_minor": 0,
  "metadata": {
    "colab": {
      "name": "Ensemble_Trees_Core.ipynb",
      "provenance": [],
      "collapsed_sections": [],
      "authorship_tag": "ABX9TyOy3TBZ6/pcixIztVfFBVnw",
      "include_colab_link": true
    },
    "kernelspec": {
      "name": "python3",
      "display_name": "Python 3"
    },
    "language_info": {
      "name": "python"
    }
  },
  "cells": [
    {
      "cell_type": "markdown",
      "metadata": {
        "id": "view-in-github",
        "colab_type": "text"
      },
      "source": [
        "<a href=\"https://colab.research.google.com/github/dvisionst/Ensemble_Trees_Core/blob/main/Ensemble_Trees_Core.ipynb\" target=\"_parent\"><img src=\"https://colab.research.google.com/assets/colab-badge.svg\" alt=\"Open In Colab\"/></a>"
      ]
    },
    {
      "cell_type": "markdown",
      "source": [
        "# Ensemble Trees Exercise (CORE)\n",
        "\n",
        "- Jose Flores\n",
        "- 29 July 2022"
      ],
      "metadata": {
        "id": "5CiVvgAUphEf"
      }
    },
    {
      "cell_type": "markdown",
      "source": [
        "You will use the Boston Housing Data that you have used for previous exercises including the Decision Tree Regressor.   See if you can improve your results by using these ensemble methods! \n",
        "\n",
        "Your task is to create the best possible model to predict house prices.\n",
        "\n"
      ],
      "metadata": {
        "id": "HmCIk6wAp978"
      }
    },
    {
      "cell_type": "code",
      "execution_count": 56,
      "metadata": {
        "id": "MyHclQkHpgAG"
      },
      "outputs": [],
      "source": [
        "# Import mandatory libraries\n",
        "import pandas as pd\n",
        "import numpy as np\n",
        "import matplotlib.pyplot as plt\n",
        "import seaborn as sns\n",
        "from sklearn.model_selection import train_test_split\n",
        "from sklearn.metrics import mean_squared_error, mean_absolute_error, r2_score\n",
        "from sklearn.tree import DecisionTreeRegressor\n",
        "from sklearn.ensemble import BaggingRegressor, RandomForestRegressor\n",
        "\n"
      ]
    },
    {
      "cell_type": "code",
      "source": [
        "# Creating Dataframe from the Housing Data\n",
        "\n",
        "df = pd.read_csv('/content/Boston_Housing_from_Sklearn.csv')\n",
        "df.head()"
      ],
      "metadata": {
        "colab": {
          "base_uri": "https://localhost:8080/",
          "height": 206
        },
        "id": "UXtvHh9Rp0Mm",
        "outputId": "0e0f0b63-93c0-451a-b0c7-1146b626c9bb"
      },
      "execution_count": 57,
      "outputs": [
        {
          "output_type": "execute_result",
          "data": {
            "text/plain": [
              "      CRIM    NOX     RM   AGE  PTRATIO  LSTAT  PRICE\n",
              "0  0.00632  0.538  6.575  65.2     15.3   4.98   24.0\n",
              "1  0.02731  0.469  6.421  78.9     17.8   9.14   21.6\n",
              "2  0.02729  0.469  7.185  61.1     17.8   4.03   34.7\n",
              "3  0.03237  0.458  6.998  45.8     18.7   2.94   33.4\n",
              "4  0.06905  0.458  7.147  54.2     18.7   5.33   36.2"
            ],
            "text/html": [
              "\n",
              "  <div id=\"df-01581b41-6f76-4cf7-b33d-f7cddf1411e4\">\n",
              "    <div class=\"colab-df-container\">\n",
              "      <div>\n",
              "<style scoped>\n",
              "    .dataframe tbody tr th:only-of-type {\n",
              "        vertical-align: middle;\n",
              "    }\n",
              "\n",
              "    .dataframe tbody tr th {\n",
              "        vertical-align: top;\n",
              "    }\n",
              "\n",
              "    .dataframe thead th {\n",
              "        text-align: right;\n",
              "    }\n",
              "</style>\n",
              "<table border=\"1\" class=\"dataframe\">\n",
              "  <thead>\n",
              "    <tr style=\"text-align: right;\">\n",
              "      <th></th>\n",
              "      <th>CRIM</th>\n",
              "      <th>NOX</th>\n",
              "      <th>RM</th>\n",
              "      <th>AGE</th>\n",
              "      <th>PTRATIO</th>\n",
              "      <th>LSTAT</th>\n",
              "      <th>PRICE</th>\n",
              "    </tr>\n",
              "  </thead>\n",
              "  <tbody>\n",
              "    <tr>\n",
              "      <th>0</th>\n",
              "      <td>0.00632</td>\n",
              "      <td>0.538</td>\n",
              "      <td>6.575</td>\n",
              "      <td>65.2</td>\n",
              "      <td>15.3</td>\n",
              "      <td>4.98</td>\n",
              "      <td>24.0</td>\n",
              "    </tr>\n",
              "    <tr>\n",
              "      <th>1</th>\n",
              "      <td>0.02731</td>\n",
              "      <td>0.469</td>\n",
              "      <td>6.421</td>\n",
              "      <td>78.9</td>\n",
              "      <td>17.8</td>\n",
              "      <td>9.14</td>\n",
              "      <td>21.6</td>\n",
              "    </tr>\n",
              "    <tr>\n",
              "      <th>2</th>\n",
              "      <td>0.02729</td>\n",
              "      <td>0.469</td>\n",
              "      <td>7.185</td>\n",
              "      <td>61.1</td>\n",
              "      <td>17.8</td>\n",
              "      <td>4.03</td>\n",
              "      <td>34.7</td>\n",
              "    </tr>\n",
              "    <tr>\n",
              "      <th>3</th>\n",
              "      <td>0.03237</td>\n",
              "      <td>0.458</td>\n",
              "      <td>6.998</td>\n",
              "      <td>45.8</td>\n",
              "      <td>18.7</td>\n",
              "      <td>2.94</td>\n",
              "      <td>33.4</td>\n",
              "    </tr>\n",
              "    <tr>\n",
              "      <th>4</th>\n",
              "      <td>0.06905</td>\n",
              "      <td>0.458</td>\n",
              "      <td>7.147</td>\n",
              "      <td>54.2</td>\n",
              "      <td>18.7</td>\n",
              "      <td>5.33</td>\n",
              "      <td>36.2</td>\n",
              "    </tr>\n",
              "  </tbody>\n",
              "</table>\n",
              "</div>\n",
              "      <button class=\"colab-df-convert\" onclick=\"convertToInteractive('df-01581b41-6f76-4cf7-b33d-f7cddf1411e4')\"\n",
              "              title=\"Convert this dataframe to an interactive table.\"\n",
              "              style=\"display:none;\">\n",
              "        \n",
              "  <svg xmlns=\"http://www.w3.org/2000/svg\" height=\"24px\"viewBox=\"0 0 24 24\"\n",
              "       width=\"24px\">\n",
              "    <path d=\"M0 0h24v24H0V0z\" fill=\"none\"/>\n",
              "    <path d=\"M18.56 5.44l.94 2.06.94-2.06 2.06-.94-2.06-.94-.94-2.06-.94 2.06-2.06.94zm-11 1L8.5 8.5l.94-2.06 2.06-.94-2.06-.94L8.5 2.5l-.94 2.06-2.06.94zm10 10l.94 2.06.94-2.06 2.06-.94-2.06-.94-.94-2.06-.94 2.06-2.06.94z\"/><path d=\"M17.41 7.96l-1.37-1.37c-.4-.4-.92-.59-1.43-.59-.52 0-1.04.2-1.43.59L10.3 9.45l-7.72 7.72c-.78.78-.78 2.05 0 2.83L4 21.41c.39.39.9.59 1.41.59.51 0 1.02-.2 1.41-.59l7.78-7.78 2.81-2.81c.8-.78.8-2.07 0-2.86zM5.41 20L4 18.59l7.72-7.72 1.47 1.35L5.41 20z\"/>\n",
              "  </svg>\n",
              "      </button>\n",
              "      \n",
              "  <style>\n",
              "    .colab-df-container {\n",
              "      display:flex;\n",
              "      flex-wrap:wrap;\n",
              "      gap: 12px;\n",
              "    }\n",
              "\n",
              "    .colab-df-convert {\n",
              "      background-color: #E8F0FE;\n",
              "      border: none;\n",
              "      border-radius: 50%;\n",
              "      cursor: pointer;\n",
              "      display: none;\n",
              "      fill: #1967D2;\n",
              "      height: 32px;\n",
              "      padding: 0 0 0 0;\n",
              "      width: 32px;\n",
              "    }\n",
              "\n",
              "    .colab-df-convert:hover {\n",
              "      background-color: #E2EBFA;\n",
              "      box-shadow: 0px 1px 2px rgba(60, 64, 67, 0.3), 0px 1px 3px 1px rgba(60, 64, 67, 0.15);\n",
              "      fill: #174EA6;\n",
              "    }\n",
              "\n",
              "    [theme=dark] .colab-df-convert {\n",
              "      background-color: #3B4455;\n",
              "      fill: #D2E3FC;\n",
              "    }\n",
              "\n",
              "    [theme=dark] .colab-df-convert:hover {\n",
              "      background-color: #434B5C;\n",
              "      box-shadow: 0px 1px 3px 1px rgba(0, 0, 0, 0.15);\n",
              "      filter: drop-shadow(0px 1px 2px rgba(0, 0, 0, 0.3));\n",
              "      fill: #FFFFFF;\n",
              "    }\n",
              "  </style>\n",
              "\n",
              "      <script>\n",
              "        const buttonEl =\n",
              "          document.querySelector('#df-01581b41-6f76-4cf7-b33d-f7cddf1411e4 button.colab-df-convert');\n",
              "        buttonEl.style.display =\n",
              "          google.colab.kernel.accessAllowed ? 'block' : 'none';\n",
              "\n",
              "        async function convertToInteractive(key) {\n",
              "          const element = document.querySelector('#df-01581b41-6f76-4cf7-b33d-f7cddf1411e4');\n",
              "          const dataTable =\n",
              "            await google.colab.kernel.invokeFunction('convertToInteractive',\n",
              "                                                     [key], {});\n",
              "          if (!dataTable) return;\n",
              "\n",
              "          const docLinkHtml = 'Like what you see? Visit the ' +\n",
              "            '<a target=\"_blank\" href=https://colab.research.google.com/notebooks/data_table.ipynb>data table notebook</a>'\n",
              "            + ' to learn more about interactive tables.';\n",
              "          element.innerHTML = '';\n",
              "          dataTable['output_type'] = 'display_data';\n",
              "          await google.colab.output.renderOutput(dataTable, element);\n",
              "          const docLink = document.createElement('div');\n",
              "          docLink.innerHTML = docLinkHtml;\n",
              "          element.appendChild(docLink);\n",
              "        }\n",
              "      </script>\n",
              "    </div>\n",
              "  </div>\n",
              "  "
            ]
          },
          "metadata": {},
          "execution_count": 57
        }
      ]
    },
    {
      "cell_type": "code",
      "source": [
        "# Setting up my features matrix and my target vector\n",
        "\n",
        "y = df['PRICE']\n",
        "\n",
        "X = df.drop(columns='PRICE')\n",
        "X.info()\n",
        "# X.info() shows no missing values and that the features matrix \n",
        "# is all numerical data"
      ],
      "metadata": {
        "colab": {
          "base_uri": "https://localhost:8080/"
        },
        "id": "8HoivYLB6V2j",
        "outputId": "1e7dd985-834b-4514-f2b8-94e98411184f"
      },
      "execution_count": 58,
      "outputs": [
        {
          "output_type": "stream",
          "name": "stdout",
          "text": [
            "<class 'pandas.core.frame.DataFrame'>\n",
            "RangeIndex: 506 entries, 0 to 505\n",
            "Data columns (total 6 columns):\n",
            " #   Column   Non-Null Count  Dtype  \n",
            "---  ------   --------------  -----  \n",
            " 0   CRIM     506 non-null    float64\n",
            " 1   NOX      506 non-null    float64\n",
            " 2   RM       506 non-null    float64\n",
            " 3   AGE      506 non-null    float64\n",
            " 4   PTRATIO  506 non-null    float64\n",
            " 5   LSTAT    506 non-null    float64\n",
            "dtypes: float64(6)\n",
            "memory usage: 23.8 KB\n"
          ]
        }
      ]
    },
    {
      "cell_type": "code",
      "source": [
        "# Splitting data into two sets, training and testing:\n",
        "\n",
        "X_train, X_test, y_train, y_test = train_test_split(X, y, random_state=42)"
      ],
      "metadata": {
        "id": "H-HcqXgp6hCl"
      },
      "execution_count": 59,
      "outputs": []
    },
    {
      "cell_type": "markdown",
      "source": [
        "# 1) Using different Tree models\n",
        "\n",
        "## Make a Decision Tree\n",
        "\n"
      ],
      "metadata": {
        "id": "toqQIZEbqA36"
      }
    },
    {
      "cell_type": "code",
      "source": [
        "# Creating the decision tree and fitting to train data no scaling is needed\n",
        "decision_tree = DecisionTreeRegressor(random_state = 42)\n",
        "\n",
        "# # fitting the model\n",
        "\n",
        "decision_tree.fit(X_train, y_train);\n"
      ],
      "metadata": {
        "id": "qwZ-lBHJ-UTF"
      },
      "execution_count": 60,
      "outputs": []
    },
    {
      "cell_type": "code",
      "source": [
        "# predicting the target values for both training and test sets\n",
        "\n",
        "train_prediction = decision_tree.predict(X_train)\n",
        "test_prediction = decision_tree.predict(X_test)"
      ],
      "metadata": {
        "id": "1XfpmdsQ-_oQ"
      },
      "execution_count": 61,
      "outputs": []
    },
    {
      "cell_type": "code",
      "source": [
        "# evaluating the model\n",
        "train_score = round(decision_tree.score(X_train, y_train), 3)\n",
        "test_score = round(decision_tree.score(X_test, y_test), 3)\n",
        "print(train_score)\n",
        "print(test_score)\n",
        "\n"
      ],
      "metadata": {
        "colab": {
          "base_uri": "https://localhost:8080/"
        },
        "id": "6xk7ji39_e50",
        "outputId": "166753a1-522b-4ea9-f124-23d20bfd7316"
      },
      "execution_count": 62,
      "outputs": [
        {
          "output_type": "stream",
          "name": "stdout",
          "text": [
            "1.0\n",
            "0.619\n"
          ]
        }
      ]
    },
    {
      "cell_type": "markdown",
      "source": [
        "## Bagged Tree"
      ],
      "metadata": {
        "id": "xs-5AV1x98L7"
      }
    },
    {
      "cell_type": "code",
      "source": [
        "# creating the bagged tree model\n",
        "\n",
        "bag_tree = BaggingRegressor(random_state = 42)"
      ],
      "metadata": {
        "id": "5jqP8OB0_rH2"
      },
      "execution_count": 63,
      "outputs": []
    },
    {
      "cell_type": "code",
      "source": [
        "# looking at the hyper parameters for the model\n",
        "\n",
        "bag_tree.get_params()"
      ],
      "metadata": {
        "colab": {
          "base_uri": "https://localhost:8080/"
        },
        "id": "kpVKjtIUAUr-",
        "outputId": "a9a6ce25-76ba-41f5-b13f-8a2610c63cb6"
      },
      "execution_count": 64,
      "outputs": [
        {
          "output_type": "execute_result",
          "data": {
            "text/plain": [
              "{'base_estimator': None,\n",
              " 'bootstrap': True,\n",
              " 'bootstrap_features': False,\n",
              " 'max_features': 1.0,\n",
              " 'max_samples': 1.0,\n",
              " 'n_estimators': 10,\n",
              " 'n_jobs': None,\n",
              " 'oob_score': False,\n",
              " 'random_state': 42,\n",
              " 'verbose': 0,\n",
              " 'warm_start': False}"
            ]
          },
          "metadata": {},
          "execution_count": 64
        }
      ]
    },
    {
      "cell_type": "code",
      "source": [
        "# fitting the model on trainig set\n",
        "bag_tree.fit(X_train, y_train)\n",
        "# using the model to make predictions\n",
        "bag_tree.predict(X_test)"
      ],
      "metadata": {
        "colab": {
          "base_uri": "https://localhost:8080/"
        },
        "id": "jiUd_T8bAlZ5",
        "outputId": "4807d632-addf-463d-b576-2af8e2b34c03"
      },
      "execution_count": 65,
      "outputs": [
        {
          "output_type": "execute_result",
          "data": {
            "text/plain": [
              "array([24.04, 30.77, 18.39, 24.04, 16.09, 20.4 , 19.13, 15.03, 21.07,\n",
              "       21.39, 18.87, 19.46,  7.68, 19.44, 18.93, 25.27, 19.06,  7.87,\n",
              "       44.92, 14.98, 24.01, 23.58, 14.26, 24.63, 14.15, 12.82, 20.67,\n",
              "       14.2 , 19.37, 20.33, 20.6 , 23.18, 31.23, 21.4 , 13.94, 15.81,\n",
              "       36.2 , 19.6 , 20.22, 24.6 , 18.88, 25.75, 44.15, 20.44, 22.72,\n",
              "       14.5 , 14.95, 24.43, 16.76, 28.32, 22.93, 34.44, 15.92, 25.6 ,\n",
              "       47.42, 22.56, 15.93, 31.44, 21.34, 20.25, 27.03, 33.4 , 27.06,\n",
              "       19.23, 28.11, 16.18, 14.58, 22.82, 28.31, 16.5 , 19.59, 25.86,\n",
              "        9.79, 21.71, 21.47,  6.94, 20.52, 46.12, 11.9 , 14.74, 20.45,\n",
              "       11.14, 20.37,  9.44, 20.4 , 26.58, 16.95, 23.41, 24.52, 17.98,\n",
              "       23.  ,  7.34, 18.97, 20.09, 26.26, 20.12, 35.89, 11.42, 12.12,\n",
              "       12.27, 20.1 , 23.  , 11.72, 23.22, 20.29, 15.51, 18.07, 25.05,\n",
              "       21.62, 23.58,  7.73, 14.05, 21.61, 22.51, 33.87, 12.38, 43.51,\n",
              "       16.17, 18.67, 24.28, 20.11, 24.72,  8.68, 20.84, 24.5 , 21.74,\n",
              "       24.2 ])"
            ]
          },
          "metadata": {},
          "execution_count": 65
        }
      ]
    },
    {
      "cell_type": "code",
      "source": [
        "# evaluting the performance of model\n",
        "\n",
        "bag_tree_train_score = round(bag_tree.score(X_train, y_train), 3)\n",
        "bag_tree_test_score = round(bag_tree.score(X_test, y_test), 3)\n",
        "print(bag_tree_train_score)\n",
        "print(bag_tree_test_score)\n",
        "\n"
      ],
      "metadata": {
        "colab": {
          "base_uri": "https://localhost:8080/"
        },
        "id": "albwNGu0A7dO",
        "outputId": "2e11c87f-298e-49f1-bfa8-3566f032b732"
      },
      "execution_count": 66,
      "outputs": [
        {
          "output_type": "stream",
          "name": "stdout",
          "text": [
            "0.961\n",
            "0.82\n"
          ]
        }
      ]
    },
    {
      "cell_type": "markdown",
      "source": [
        "## Random Forest"
      ],
      "metadata": {
        "id": "yxmAO89-99HA"
      }
    },
    {
      "cell_type": "code",
      "source": [
        "# creating the model and obtaining its hyperparameters\n",
        "forest = RandomForestRegressor(random_state=42)\n",
        "\n",
        "forest.get_params()"
      ],
      "metadata": {
        "colab": {
          "base_uri": "https://localhost:8080/"
        },
        "id": "Bu0bdBS2BQ5d",
        "outputId": "fad80c84-b66d-4efd-dd5c-4742273cf37f"
      },
      "execution_count": 67,
      "outputs": [
        {
          "output_type": "execute_result",
          "data": {
            "text/plain": [
              "{'bootstrap': True,\n",
              " 'ccp_alpha': 0.0,\n",
              " 'criterion': 'squared_error',\n",
              " 'max_depth': None,\n",
              " 'max_features': 'auto',\n",
              " 'max_leaf_nodes': None,\n",
              " 'max_samples': None,\n",
              " 'min_impurity_decrease': 0.0,\n",
              " 'min_samples_leaf': 1,\n",
              " 'min_samples_split': 2,\n",
              " 'min_weight_fraction_leaf': 0.0,\n",
              " 'n_estimators': 100,\n",
              " 'n_jobs': None,\n",
              " 'oob_score': False,\n",
              " 'random_state': 42,\n",
              " 'verbose': 0,\n",
              " 'warm_start': False}"
            ]
          },
          "metadata": {},
          "execution_count": 67
        }
      ]
    },
    {
      "cell_type": "code",
      "source": [
        "# fitting the model on training set and making predictions\n",
        "\n",
        "forest.fit(X_train, y_train)\n",
        "\n",
        "forest.predict(X_test)"
      ],
      "metadata": {
        "colab": {
          "base_uri": "https://localhost:8080/"
        },
        "id": "v-mrXR8QE5k_",
        "outputId": "24139ed2-d05b-49fa-f60e-c02aa566fa05"
      },
      "execution_count": 68,
      "outputs": [
        {
          "output_type": "execute_result",
          "data": {
            "text/plain": [
              "array([22.986, 31.391, 19.003, 23.141, 16.213, 20.666, 18.768, 15.219,\n",
              "       21.251, 20.809, 20.253, 20.247,  8.237, 21.228, 19.717, 26.426,\n",
              "       19.432,  8.497, 46.203, 15.325, 23.637, 23.557, 14.31 , 24.344,\n",
              "       15.369, 13.575, 21.195, 13.96 , 18.668, 21.416, 19.64 , 23.35 ,\n",
              "       28.457, 21.533, 14.143, 16.065, 34.532, 19.198, 20.46 , 23.926,\n",
              "       18.542, 28.025, 45.118, 19.994, 22.885, 14.364, 15.116, 23.797,\n",
              "       17.815, 28.089, 21.717, 34.018, 16.448, 25.876, 44.673, 21.957,\n",
              "       16.028, 31.978, 21.921, 20.542, 26.234, 33.55 , 30.222, 19.88 ,\n",
              "       27.288, 16.302, 14.934, 22.961, 27.268, 17.147, 20.538, 30.51 ,\n",
              "       10.187, 21.264, 21.262,  7.225, 20.097, 46.97 , 12.082, 13.522,\n",
              "       22.008, 12.609, 20.435,  8.976, 20.58 , 27.007, 16.026, 23.329,\n",
              "       24.346, 17.787, 22.135,  7.881, 18.524, 20.042, 25.241, 19.298,\n",
              "       32.793, 13.215, 12.961, 12.98 , 19.742, 24.277, 13.176, 20.387,\n",
              "       21.179, 14.004, 19.233, 24.822, 20.402, 24.114,  9.165, 14.91 ,\n",
              "       22.71 , 22.94 , 33.579, 13.253, 42.467, 16.23 , 19.77 , 23.843,\n",
              "       20.293, 24.043,  7.276, 20.198, 24.069, 21.865, 24.371])"
            ]
          },
          "metadata": {},
          "execution_count": 68
        }
      ]
    },
    {
      "cell_type": "code",
      "source": [
        "# evaluating the performance of the model\n",
        "\n",
        "forest_train_score = round(forest.score(X_train, y_train), 3)\n",
        "forest_test_score = round(forest.score(X_test, y_test), 3)\n",
        "\n",
        "print(forest_train_score)\n",
        "print(forest_test_score)"
      ],
      "metadata": {
        "colab": {
          "base_uri": "https://localhost:8080/"
        },
        "id": "scyXiaw1FHA9",
        "outputId": "46717e0a-6ceb-41a9-b934-f02c907010b7"
      },
      "execution_count": 69,
      "outputs": [
        {
          "output_type": "stream",
          "name": "stdout",
          "text": [
            "0.977\n",
            "0.834\n"
          ]
        }
      ]
    },
    {
      "cell_type": "markdown",
      "source": [
        "# 2) Tune each model to optimize performance on the test set.\n",
        "\n"
      ],
      "metadata": {
        "id": "xOZl8eifqFZ8"
      }
    },
    {
      "cell_type": "code",
      "source": [
        "# obtaining the depth for the decision tree model\n",
        "decision_tree.get_depth()"
      ],
      "metadata": {
        "colab": {
          "base_uri": "https://localhost:8080/"
        },
        "id": "dxUspueRFqTZ",
        "outputId": "ff55f848-9de8-47e4-d2d2-f072dba3d3f4"
      },
      "execution_count": 70,
      "outputs": [
        {
          "output_type": "execute_result",
          "data": {
            "text/plain": [
              "20"
            ]
          },
          "metadata": {},
          "execution_count": 70
        }
      ]
    },
    {
      "cell_type": "code",
      "source": [
        "# creating a loop in order to determine the optimal max depth for the model\n",
        "\n",
        "levels = list(range(2, 20))\n",
        "\n",
        "# storing the valuse of each max depth in a df\n",
        "scores = pd.DataFrame(index=levels, columns=['Test Score', 'Train Score'])\n",
        "# looping through levels list of depths\n",
        "\n",
        "for depth in levels:\n",
        "  decision_tree = DecisionTreeRegressor(max_depth=depth, random_state=42)\n",
        "  decision_tree.fit(X_train, y_train)\n",
        "  train_score = decision_tree.score(X_train, y_train)\n",
        "  test_score = decision_tree.score(X_test, y_test)\n",
        "  scores.loc[depth, 'Train Score'] = train_score\n",
        "  scores.loc[depth, 'Test Score'] = test_score\n",
        "\n",
        "# sorting the values to identify the optimal max depth\n",
        "\n",
        "sorted_scores = scores.sort_values(by='Test Score', ascending=False)\n",
        "sorted_scores.head()"
      ],
      "metadata": {
        "colab": {
          "base_uri": "https://localhost:8080/",
          "height": 206
        },
        "id": "_wNnLIIsHdPj",
        "outputId": "d75bc955-2b9d-4ba0-bd1a-72dcef7d6d3e"
      },
      "execution_count": 71,
      "outputs": [
        {
          "output_type": "execute_result",
          "data": {
            "text/plain": [
              "   Test Score Train Score\n",
              "7    0.846377    0.958517\n",
              "10    0.84601    0.986796\n",
              "11   0.829736      0.9911\n",
              "12   0.827102    0.995358\n",
              "6    0.825985    0.942742"
            ],
            "text/html": [
              "\n",
              "  <div id=\"df-2eefe8b8-2aa8-4bae-9bfa-5bf63a5d39e6\">\n",
              "    <div class=\"colab-df-container\">\n",
              "      <div>\n",
              "<style scoped>\n",
              "    .dataframe tbody tr th:only-of-type {\n",
              "        vertical-align: middle;\n",
              "    }\n",
              "\n",
              "    .dataframe tbody tr th {\n",
              "        vertical-align: top;\n",
              "    }\n",
              "\n",
              "    .dataframe thead th {\n",
              "        text-align: right;\n",
              "    }\n",
              "</style>\n",
              "<table border=\"1\" class=\"dataframe\">\n",
              "  <thead>\n",
              "    <tr style=\"text-align: right;\">\n",
              "      <th></th>\n",
              "      <th>Test Score</th>\n",
              "      <th>Train Score</th>\n",
              "    </tr>\n",
              "  </thead>\n",
              "  <tbody>\n",
              "    <tr>\n",
              "      <th>7</th>\n",
              "      <td>0.846377</td>\n",
              "      <td>0.958517</td>\n",
              "    </tr>\n",
              "    <tr>\n",
              "      <th>10</th>\n",
              "      <td>0.84601</td>\n",
              "      <td>0.986796</td>\n",
              "    </tr>\n",
              "    <tr>\n",
              "      <th>11</th>\n",
              "      <td>0.829736</td>\n",
              "      <td>0.9911</td>\n",
              "    </tr>\n",
              "    <tr>\n",
              "      <th>12</th>\n",
              "      <td>0.827102</td>\n",
              "      <td>0.995358</td>\n",
              "    </tr>\n",
              "    <tr>\n",
              "      <th>6</th>\n",
              "      <td>0.825985</td>\n",
              "      <td>0.942742</td>\n",
              "    </tr>\n",
              "  </tbody>\n",
              "</table>\n",
              "</div>\n",
              "      <button class=\"colab-df-convert\" onclick=\"convertToInteractive('df-2eefe8b8-2aa8-4bae-9bfa-5bf63a5d39e6')\"\n",
              "              title=\"Convert this dataframe to an interactive table.\"\n",
              "              style=\"display:none;\">\n",
              "        \n",
              "  <svg xmlns=\"http://www.w3.org/2000/svg\" height=\"24px\"viewBox=\"0 0 24 24\"\n",
              "       width=\"24px\">\n",
              "    <path d=\"M0 0h24v24H0V0z\" fill=\"none\"/>\n",
              "    <path d=\"M18.56 5.44l.94 2.06.94-2.06 2.06-.94-2.06-.94-.94-2.06-.94 2.06-2.06.94zm-11 1L8.5 8.5l.94-2.06 2.06-.94-2.06-.94L8.5 2.5l-.94 2.06-2.06.94zm10 10l.94 2.06.94-2.06 2.06-.94-2.06-.94-.94-2.06-.94 2.06-2.06.94z\"/><path d=\"M17.41 7.96l-1.37-1.37c-.4-.4-.92-.59-1.43-.59-.52 0-1.04.2-1.43.59L10.3 9.45l-7.72 7.72c-.78.78-.78 2.05 0 2.83L4 21.41c.39.39.9.59 1.41.59.51 0 1.02-.2 1.41-.59l7.78-7.78 2.81-2.81c.8-.78.8-2.07 0-2.86zM5.41 20L4 18.59l7.72-7.72 1.47 1.35L5.41 20z\"/>\n",
              "  </svg>\n",
              "      </button>\n",
              "      \n",
              "  <style>\n",
              "    .colab-df-container {\n",
              "      display:flex;\n",
              "      flex-wrap:wrap;\n",
              "      gap: 12px;\n",
              "    }\n",
              "\n",
              "    .colab-df-convert {\n",
              "      background-color: #E8F0FE;\n",
              "      border: none;\n",
              "      border-radius: 50%;\n",
              "      cursor: pointer;\n",
              "      display: none;\n",
              "      fill: #1967D2;\n",
              "      height: 32px;\n",
              "      padding: 0 0 0 0;\n",
              "      width: 32px;\n",
              "    }\n",
              "\n",
              "    .colab-df-convert:hover {\n",
              "      background-color: #E2EBFA;\n",
              "      box-shadow: 0px 1px 2px rgba(60, 64, 67, 0.3), 0px 1px 3px 1px rgba(60, 64, 67, 0.15);\n",
              "      fill: #174EA6;\n",
              "    }\n",
              "\n",
              "    [theme=dark] .colab-df-convert {\n",
              "      background-color: #3B4455;\n",
              "      fill: #D2E3FC;\n",
              "    }\n",
              "\n",
              "    [theme=dark] .colab-df-convert:hover {\n",
              "      background-color: #434B5C;\n",
              "      box-shadow: 0px 1px 3px 1px rgba(0, 0, 0, 0.15);\n",
              "      filter: drop-shadow(0px 1px 2px rgba(0, 0, 0, 0.3));\n",
              "      fill: #FFFFFF;\n",
              "    }\n",
              "  </style>\n",
              "\n",
              "      <script>\n",
              "        const buttonEl =\n",
              "          document.querySelector('#df-2eefe8b8-2aa8-4bae-9bfa-5bf63a5d39e6 button.colab-df-convert');\n",
              "        buttonEl.style.display =\n",
              "          google.colab.kernel.accessAllowed ? 'block' : 'none';\n",
              "\n",
              "        async function convertToInteractive(key) {\n",
              "          const element = document.querySelector('#df-2eefe8b8-2aa8-4bae-9bfa-5bf63a5d39e6');\n",
              "          const dataTable =\n",
              "            await google.colab.kernel.invokeFunction('convertToInteractive',\n",
              "                                                     [key], {});\n",
              "          if (!dataTable) return;\n",
              "\n",
              "          const docLinkHtml = 'Like what you see? Visit the ' +\n",
              "            '<a target=\"_blank\" href=https://colab.research.google.com/notebooks/data_table.ipynb>data table notebook</a>'\n",
              "            + ' to learn more about interactive tables.';\n",
              "          element.innerHTML = '';\n",
              "          dataTable['output_type'] = 'display_data';\n",
              "          await google.colab.output.renderOutput(dataTable, element);\n",
              "          const docLink = document.createElement('div');\n",
              "          docLink.innerHTML = docLinkHtml;\n",
              "          element.appendChild(docLink);\n",
              "        }\n",
              "      </script>\n",
              "    </div>\n",
              "  </div>\n",
              "  "
            ]
          },
          "metadata": {},
          "execution_count": 71
        }
      ]
    },
    {
      "cell_type": "markdown",
      "source": [
        "from the code above it shows that the optimal max depth for the decision tree model is 7"
      ],
      "metadata": {
        "id": "L8HSy3qMJKYU"
      }
    },
    {
      "cell_type": "code",
      "source": [
        "# running the deccision tree model with the max depth set at 7 from previous \n",
        "# coding block\n",
        "\n",
        "decision_tree_7 = DecisionTreeRegressor(max_depth=7, random_state=42)\n",
        "decision_tree_7.fit(X_train, y_train)\n",
        "\n",
        "train_7_score = round(decision_tree_7.score(X_train, y_train), 3)\n",
        "test_7_score = round(decision_tree_7.score(X_test, y_test), 3)\n",
        "\n",
        "print(train_7_score)\n",
        "print(test_7_score)"
      ],
      "metadata": {
        "colab": {
          "base_uri": "https://localhost:8080/"
        },
        "id": "Nbsg0wM0JS7T",
        "outputId": "9d9741d1-be68-4454-ddff-c58c313240f5"
      },
      "execution_count": 72,
      "outputs": [
        {
          "output_type": "stream",
          "name": "stdout",
          "text": [
            "0.959\n",
            "0.846\n"
          ]
        }
      ]
    },
    {
      "cell_type": "markdown",
      "source": [
        "## Optimizing Bagged Tree Model\n"
      ],
      "metadata": {
        "id": "7m7EusOxKUBB"
      }
    },
    {
      "cell_type": "code",
      "source": [
        "# List of estimator values\n",
        "estimators = [10, 20, 30, 40, 50, 100]\n",
        "# Data frame to store the scores\n",
        "scores_b = pd.DataFrame(index=estimators, columns=['Train Score', 'Test Score'])\n",
        "# Iterate through the values to find the best number of estimators\n",
        "for num_estimators in estimators:\n",
        "   bag_reg = BaggingRegressor(n_estimators=num_estimators, random_state=42)\n",
        "   bag_reg.fit(X_train, y_train)\n",
        "   train_score_b = bag_reg.score(X_train, y_train)\n",
        "   test_score_b = bag_reg.score(X_test, y_test)\n",
        "   scores_b.loc[num_estimators, 'Train Score'] = train_score_b\n",
        "   scores_b.loc[num_estimators, 'Test Score'] = test_score_b\n",
        "\n",
        "\n",
        "scores_b = scores_b.sort_values(by='Test Score', ascending=False)\n",
        "scores_b.head()\n"
      ],
      "metadata": {
        "colab": {
          "base_uri": "https://localhost:8080/",
          "height": 206
        },
        "id": "d_IpCex0QXbs",
        "outputId": "e579bb21-4e68-44bb-9a67-abade7ce3626"
      },
      "execution_count": 73,
      "outputs": [
        {
          "output_type": "execute_result",
          "data": {
            "text/plain": [
              "    Train Score Test Score\n",
              "40      0.97395   0.834365\n",
              "50     0.975185    0.83391\n",
              "100    0.977246   0.833051\n",
              "20       0.9701   0.831147\n",
              "30     0.973401   0.830604"
            ],
            "text/html": [
              "\n",
              "  <div id=\"df-0f52e706-d6f6-4073-9cf5-55b9e20b69fe\">\n",
              "    <div class=\"colab-df-container\">\n",
              "      <div>\n",
              "<style scoped>\n",
              "    .dataframe tbody tr th:only-of-type {\n",
              "        vertical-align: middle;\n",
              "    }\n",
              "\n",
              "    .dataframe tbody tr th {\n",
              "        vertical-align: top;\n",
              "    }\n",
              "\n",
              "    .dataframe thead th {\n",
              "        text-align: right;\n",
              "    }\n",
              "</style>\n",
              "<table border=\"1\" class=\"dataframe\">\n",
              "  <thead>\n",
              "    <tr style=\"text-align: right;\">\n",
              "      <th></th>\n",
              "      <th>Train Score</th>\n",
              "      <th>Test Score</th>\n",
              "    </tr>\n",
              "  </thead>\n",
              "  <tbody>\n",
              "    <tr>\n",
              "      <th>40</th>\n",
              "      <td>0.97395</td>\n",
              "      <td>0.834365</td>\n",
              "    </tr>\n",
              "    <tr>\n",
              "      <th>50</th>\n",
              "      <td>0.975185</td>\n",
              "      <td>0.83391</td>\n",
              "    </tr>\n",
              "    <tr>\n",
              "      <th>100</th>\n",
              "      <td>0.977246</td>\n",
              "      <td>0.833051</td>\n",
              "    </tr>\n",
              "    <tr>\n",
              "      <th>20</th>\n",
              "      <td>0.9701</td>\n",
              "      <td>0.831147</td>\n",
              "    </tr>\n",
              "    <tr>\n",
              "      <th>30</th>\n",
              "      <td>0.973401</td>\n",
              "      <td>0.830604</td>\n",
              "    </tr>\n",
              "  </tbody>\n",
              "</table>\n",
              "</div>\n",
              "      <button class=\"colab-df-convert\" onclick=\"convertToInteractive('df-0f52e706-d6f6-4073-9cf5-55b9e20b69fe')\"\n",
              "              title=\"Convert this dataframe to an interactive table.\"\n",
              "              style=\"display:none;\">\n",
              "        \n",
              "  <svg xmlns=\"http://www.w3.org/2000/svg\" height=\"24px\"viewBox=\"0 0 24 24\"\n",
              "       width=\"24px\">\n",
              "    <path d=\"M0 0h24v24H0V0z\" fill=\"none\"/>\n",
              "    <path d=\"M18.56 5.44l.94 2.06.94-2.06 2.06-.94-2.06-.94-.94-2.06-.94 2.06-2.06.94zm-11 1L8.5 8.5l.94-2.06 2.06-.94-2.06-.94L8.5 2.5l-.94 2.06-2.06.94zm10 10l.94 2.06.94-2.06 2.06-.94-2.06-.94-.94-2.06-.94 2.06-2.06.94z\"/><path d=\"M17.41 7.96l-1.37-1.37c-.4-.4-.92-.59-1.43-.59-.52 0-1.04.2-1.43.59L10.3 9.45l-7.72 7.72c-.78.78-.78 2.05 0 2.83L4 21.41c.39.39.9.59 1.41.59.51 0 1.02-.2 1.41-.59l7.78-7.78 2.81-2.81c.8-.78.8-2.07 0-2.86zM5.41 20L4 18.59l7.72-7.72 1.47 1.35L5.41 20z\"/>\n",
              "  </svg>\n",
              "      </button>\n",
              "      \n",
              "  <style>\n",
              "    .colab-df-container {\n",
              "      display:flex;\n",
              "      flex-wrap:wrap;\n",
              "      gap: 12px;\n",
              "    }\n",
              "\n",
              "    .colab-df-convert {\n",
              "      background-color: #E8F0FE;\n",
              "      border: none;\n",
              "      border-radius: 50%;\n",
              "      cursor: pointer;\n",
              "      display: none;\n",
              "      fill: #1967D2;\n",
              "      height: 32px;\n",
              "      padding: 0 0 0 0;\n",
              "      width: 32px;\n",
              "    }\n",
              "\n",
              "    .colab-df-convert:hover {\n",
              "      background-color: #E2EBFA;\n",
              "      box-shadow: 0px 1px 2px rgba(60, 64, 67, 0.3), 0px 1px 3px 1px rgba(60, 64, 67, 0.15);\n",
              "      fill: #174EA6;\n",
              "    }\n",
              "\n",
              "    [theme=dark] .colab-df-convert {\n",
              "      background-color: #3B4455;\n",
              "      fill: #D2E3FC;\n",
              "    }\n",
              "\n",
              "    [theme=dark] .colab-df-convert:hover {\n",
              "      background-color: #434B5C;\n",
              "      box-shadow: 0px 1px 3px 1px rgba(0, 0, 0, 0.15);\n",
              "      filter: drop-shadow(0px 1px 2px rgba(0, 0, 0, 0.3));\n",
              "      fill: #FFFFFF;\n",
              "    }\n",
              "  </style>\n",
              "\n",
              "      <script>\n",
              "        const buttonEl =\n",
              "          document.querySelector('#df-0f52e706-d6f6-4073-9cf5-55b9e20b69fe button.colab-df-convert');\n",
              "        buttonEl.style.display =\n",
              "          google.colab.kernel.accessAllowed ? 'block' : 'none';\n",
              "\n",
              "        async function convertToInteractive(key) {\n",
              "          const element = document.querySelector('#df-0f52e706-d6f6-4073-9cf5-55b9e20b69fe');\n",
              "          const dataTable =\n",
              "            await google.colab.kernel.invokeFunction('convertToInteractive',\n",
              "                                                     [key], {});\n",
              "          if (!dataTable) return;\n",
              "\n",
              "          const docLinkHtml = 'Like what you see? Visit the ' +\n",
              "            '<a target=\"_blank\" href=https://colab.research.google.com/notebooks/data_table.ipynb>data table notebook</a>'\n",
              "            + ' to learn more about interactive tables.';\n",
              "          element.innerHTML = '';\n",
              "          dataTable['output_type'] = 'display_data';\n",
              "          await google.colab.output.renderOutput(dataTable, element);\n",
              "          const docLink = document.createElement('div');\n",
              "          docLink.innerHTML = docLinkHtml;\n",
              "          element.appendChild(docLink);\n",
              "        }\n",
              "      </script>\n",
              "    </div>\n",
              "  </div>\n",
              "  "
            ]
          },
          "metadata": {},
          "execution_count": 73
        }
      ]
    },
    {
      "cell_type": "code",
      "source": [
        "# Save the index value of the best test score.\n",
        "best_n_estimators = scores.index[0]\n",
        "# Instantiate and fit the best version of the model\n",
        "bag_reg_tuned = BaggingRegressor(n_estimators=best_n_estimators,)\n",
        "bag_reg_tuned.fit(X_train, y_train)\n",
        "# Evaluate the model\n",
        "print(round(bag_reg_tuned.score(X_train, y_train), 3))\n",
        "print(round(bag_reg_tuned.score(X_test, y_test), 3))\n"
      ],
      "metadata": {
        "colab": {
          "base_uri": "https://localhost:8080/"
        },
        "id": "TKmWwqRjRRQ-",
        "outputId": "59780607-df4e-4976-9306-b2fc5e3e17e9"
      },
      "execution_count": 74,
      "outputs": [
        {
          "output_type": "stream",
          "name": "stdout",
          "text": [
            "0.915\n",
            "0.749\n"
          ]
        }
      ]
    },
    {
      "cell_type": "markdown",
      "source": [
        "## Optimizing Random Forest Model"
      ],
      "metadata": {
        "id": "ZteJCRGHRpNk"
      }
    },
    {
      "cell_type": "code",
      "source": [
        "# obtaining the depth of each tree in the random forest model when max_depth is\n",
        "# unlimited using list comprehension\n",
        "est_depths = [estimator.get_depth() for estimator in forest.estimators_]\n",
        "max(est_depths)\n"
      ],
      "metadata": {
        "colab": {
          "base_uri": "https://localhost:8080/"
        },
        "id": "KUjevBxYRv3j",
        "outputId": "2abf5f37-8e20-4e4a-d924-4e7ecee9aa52"
      },
      "execution_count": 75,
      "outputs": [
        {
          "output_type": "execute_result",
          "data": {
            "text/plain": [
              "23"
            ]
          },
          "metadata": {},
          "execution_count": 75
        }
      ]
    },
    {
      "cell_type": "code",
      "source": [
        "# looping through to get optimal results in the random forest model\n",
        "\n",
        "depths = range(1, max(est_depths))\n",
        "scores_f = pd.DataFrame(index=depths, columns=['Test Score'])\n",
        "for level in depths:    \n",
        "   model = RandomForestRegressor(max_depth=level)\n",
        "   model.fit(X_train, y_train)\n",
        "   scores_f.loc[level, 'Train Score'] = model.score(X_train, y_train)\n",
        "   scores_f.loc[level, 'Test Score'] = model.score(X_test, y_test)\n",
        "   \n",
        "sorted_scores_f = scores_f.sort_values(by='Test Score', ascending=False)\n",
        "sorted_scores_f.head()"
      ],
      "metadata": {
        "colab": {
          "base_uri": "https://localhost:8080/",
          "height": 206
        },
        "id": "NusTkPbRSUWX",
        "outputId": "57a892f9-cd8a-4f26-a29f-d26aba55861f"
      },
      "execution_count": 76,
      "outputs": [
        {
          "output_type": "execute_result",
          "data": {
            "text/plain": [
              "   Test Score  Train Score\n",
              "12   0.841706     0.973439\n",
              "9    0.837807     0.970105\n",
              "21   0.835787     0.975739\n",
              "13   0.834025     0.976309\n",
              "11   0.831149     0.972756"
            ],
            "text/html": [
              "\n",
              "  <div id=\"df-ee9f82a6-7793-44d2-bf35-4e0274781e6e\">\n",
              "    <div class=\"colab-df-container\">\n",
              "      <div>\n",
              "<style scoped>\n",
              "    .dataframe tbody tr th:only-of-type {\n",
              "        vertical-align: middle;\n",
              "    }\n",
              "\n",
              "    .dataframe tbody tr th {\n",
              "        vertical-align: top;\n",
              "    }\n",
              "\n",
              "    .dataframe thead th {\n",
              "        text-align: right;\n",
              "    }\n",
              "</style>\n",
              "<table border=\"1\" class=\"dataframe\">\n",
              "  <thead>\n",
              "    <tr style=\"text-align: right;\">\n",
              "      <th></th>\n",
              "      <th>Test Score</th>\n",
              "      <th>Train Score</th>\n",
              "    </tr>\n",
              "  </thead>\n",
              "  <tbody>\n",
              "    <tr>\n",
              "      <th>12</th>\n",
              "      <td>0.841706</td>\n",
              "      <td>0.973439</td>\n",
              "    </tr>\n",
              "    <tr>\n",
              "      <th>9</th>\n",
              "      <td>0.837807</td>\n",
              "      <td>0.970105</td>\n",
              "    </tr>\n",
              "    <tr>\n",
              "      <th>21</th>\n",
              "      <td>0.835787</td>\n",
              "      <td>0.975739</td>\n",
              "    </tr>\n",
              "    <tr>\n",
              "      <th>13</th>\n",
              "      <td>0.834025</td>\n",
              "      <td>0.976309</td>\n",
              "    </tr>\n",
              "    <tr>\n",
              "      <th>11</th>\n",
              "      <td>0.831149</td>\n",
              "      <td>0.972756</td>\n",
              "    </tr>\n",
              "  </tbody>\n",
              "</table>\n",
              "</div>\n",
              "      <button class=\"colab-df-convert\" onclick=\"convertToInteractive('df-ee9f82a6-7793-44d2-bf35-4e0274781e6e')\"\n",
              "              title=\"Convert this dataframe to an interactive table.\"\n",
              "              style=\"display:none;\">\n",
              "        \n",
              "  <svg xmlns=\"http://www.w3.org/2000/svg\" height=\"24px\"viewBox=\"0 0 24 24\"\n",
              "       width=\"24px\">\n",
              "    <path d=\"M0 0h24v24H0V0z\" fill=\"none\"/>\n",
              "    <path d=\"M18.56 5.44l.94 2.06.94-2.06 2.06-.94-2.06-.94-.94-2.06-.94 2.06-2.06.94zm-11 1L8.5 8.5l.94-2.06 2.06-.94-2.06-.94L8.5 2.5l-.94 2.06-2.06.94zm10 10l.94 2.06.94-2.06 2.06-.94-2.06-.94-.94-2.06-.94 2.06-2.06.94z\"/><path d=\"M17.41 7.96l-1.37-1.37c-.4-.4-.92-.59-1.43-.59-.52 0-1.04.2-1.43.59L10.3 9.45l-7.72 7.72c-.78.78-.78 2.05 0 2.83L4 21.41c.39.39.9.59 1.41.59.51 0 1.02-.2 1.41-.59l7.78-7.78 2.81-2.81c.8-.78.8-2.07 0-2.86zM5.41 20L4 18.59l7.72-7.72 1.47 1.35L5.41 20z\"/>\n",
              "  </svg>\n",
              "      </button>\n",
              "      \n",
              "  <style>\n",
              "    .colab-df-container {\n",
              "      display:flex;\n",
              "      flex-wrap:wrap;\n",
              "      gap: 12px;\n",
              "    }\n",
              "\n",
              "    .colab-df-convert {\n",
              "      background-color: #E8F0FE;\n",
              "      border: none;\n",
              "      border-radius: 50%;\n",
              "      cursor: pointer;\n",
              "      display: none;\n",
              "      fill: #1967D2;\n",
              "      height: 32px;\n",
              "      padding: 0 0 0 0;\n",
              "      width: 32px;\n",
              "    }\n",
              "\n",
              "    .colab-df-convert:hover {\n",
              "      background-color: #E2EBFA;\n",
              "      box-shadow: 0px 1px 2px rgba(60, 64, 67, 0.3), 0px 1px 3px 1px rgba(60, 64, 67, 0.15);\n",
              "      fill: #174EA6;\n",
              "    }\n",
              "\n",
              "    [theme=dark] .colab-df-convert {\n",
              "      background-color: #3B4455;\n",
              "      fill: #D2E3FC;\n",
              "    }\n",
              "\n",
              "    [theme=dark] .colab-df-convert:hover {\n",
              "      background-color: #434B5C;\n",
              "      box-shadow: 0px 1px 3px 1px rgba(0, 0, 0, 0.15);\n",
              "      filter: drop-shadow(0px 1px 2px rgba(0, 0, 0, 0.3));\n",
              "      fill: #FFFFFF;\n",
              "    }\n",
              "  </style>\n",
              "\n",
              "      <script>\n",
              "        const buttonEl =\n",
              "          document.querySelector('#df-ee9f82a6-7793-44d2-bf35-4e0274781e6e button.colab-df-convert');\n",
              "        buttonEl.style.display =\n",
              "          google.colab.kernel.accessAllowed ? 'block' : 'none';\n",
              "\n",
              "        async function convertToInteractive(key) {\n",
              "          const element = document.querySelector('#df-ee9f82a6-7793-44d2-bf35-4e0274781e6e');\n",
              "          const dataTable =\n",
              "            await google.colab.kernel.invokeFunction('convertToInteractive',\n",
              "                                                     [key], {});\n",
              "          if (!dataTable) return;\n",
              "\n",
              "          const docLinkHtml = 'Like what you see? Visit the ' +\n",
              "            '<a target=\"_blank\" href=https://colab.research.google.com/notebooks/data_table.ipynb>data table notebook</a>'\n",
              "            + ' to learn more about interactive tables.';\n",
              "          element.innerHTML = '';\n",
              "          dataTable['output_type'] = 'display_data';\n",
              "          await google.colab.output.renderOutput(dataTable, element);\n",
              "          const docLink = document.createElement('div');\n",
              "          docLink.innerHTML = docLinkHtml;\n",
              "          element.appendChild(docLink);\n",
              "        }\n",
              "      </script>\n",
              "    </div>\n",
              "  </div>\n",
              "  "
            ]
          },
          "metadata": {},
          "execution_count": 76
        }
      ]
    },
    {
      "cell_type": "code",
      "source": [
        "# choose a couple of values for n_estimators to save time\n",
        "# you can use another loop later to narrow down the best number\n",
        "# by trying numbers close to the best one\n",
        "n_ests = [50, 100, 150, 200, 250]\n",
        "scores2 = pd.DataFrame(index=n_ests, columns=['Test Score', 'Train Score'])\n",
        "for n in n_ests:\n",
        "   model = RandomForestRegressor(max_depth=29, n_estimators=n)\n",
        "   model.fit(X_train, y_train)\n",
        "   scores2.loc[n, 'Train Score'] = model.score(X_train, y_train)\n",
        "   scores2.loc[n, 'Test Score'] = model.score(X_test, y_test)\n",
        "scores2.head()\n"
      ],
      "metadata": {
        "colab": {
          "base_uri": "https://localhost:8080/",
          "height": 206
        },
        "id": "4tH1OVxGVl1L",
        "outputId": "a254d86c-9a0d-4dcc-a0f9-9512aa58c3d2"
      },
      "execution_count": 77,
      "outputs": [
        {
          "output_type": "execute_result",
          "data": {
            "text/plain": [
              "    Test Score Train Score\n",
              "50    0.846184    0.976891\n",
              "100   0.836432    0.974774\n",
              "150   0.837664    0.977161\n",
              "200    0.82523    0.976292\n",
              "250   0.830019    0.977108"
            ],
            "text/html": [
              "\n",
              "  <div id=\"df-de2031d5-cf35-4e48-9186-2955490aab06\">\n",
              "    <div class=\"colab-df-container\">\n",
              "      <div>\n",
              "<style scoped>\n",
              "    .dataframe tbody tr th:only-of-type {\n",
              "        vertical-align: middle;\n",
              "    }\n",
              "\n",
              "    .dataframe tbody tr th {\n",
              "        vertical-align: top;\n",
              "    }\n",
              "\n",
              "    .dataframe thead th {\n",
              "        text-align: right;\n",
              "    }\n",
              "</style>\n",
              "<table border=\"1\" class=\"dataframe\">\n",
              "  <thead>\n",
              "    <tr style=\"text-align: right;\">\n",
              "      <th></th>\n",
              "      <th>Test Score</th>\n",
              "      <th>Train Score</th>\n",
              "    </tr>\n",
              "  </thead>\n",
              "  <tbody>\n",
              "    <tr>\n",
              "      <th>50</th>\n",
              "      <td>0.846184</td>\n",
              "      <td>0.976891</td>\n",
              "    </tr>\n",
              "    <tr>\n",
              "      <th>100</th>\n",
              "      <td>0.836432</td>\n",
              "      <td>0.974774</td>\n",
              "    </tr>\n",
              "    <tr>\n",
              "      <th>150</th>\n",
              "      <td>0.837664</td>\n",
              "      <td>0.977161</td>\n",
              "    </tr>\n",
              "    <tr>\n",
              "      <th>200</th>\n",
              "      <td>0.82523</td>\n",
              "      <td>0.976292</td>\n",
              "    </tr>\n",
              "    <tr>\n",
              "      <th>250</th>\n",
              "      <td>0.830019</td>\n",
              "      <td>0.977108</td>\n",
              "    </tr>\n",
              "  </tbody>\n",
              "</table>\n",
              "</div>\n",
              "      <button class=\"colab-df-convert\" onclick=\"convertToInteractive('df-de2031d5-cf35-4e48-9186-2955490aab06')\"\n",
              "              title=\"Convert this dataframe to an interactive table.\"\n",
              "              style=\"display:none;\">\n",
              "        \n",
              "  <svg xmlns=\"http://www.w3.org/2000/svg\" height=\"24px\"viewBox=\"0 0 24 24\"\n",
              "       width=\"24px\">\n",
              "    <path d=\"M0 0h24v24H0V0z\" fill=\"none\"/>\n",
              "    <path d=\"M18.56 5.44l.94 2.06.94-2.06 2.06-.94-2.06-.94-.94-2.06-.94 2.06-2.06.94zm-11 1L8.5 8.5l.94-2.06 2.06-.94-2.06-.94L8.5 2.5l-.94 2.06-2.06.94zm10 10l.94 2.06.94-2.06 2.06-.94-2.06-.94-.94-2.06-.94 2.06-2.06.94z\"/><path d=\"M17.41 7.96l-1.37-1.37c-.4-.4-.92-.59-1.43-.59-.52 0-1.04.2-1.43.59L10.3 9.45l-7.72 7.72c-.78.78-.78 2.05 0 2.83L4 21.41c.39.39.9.59 1.41.59.51 0 1.02-.2 1.41-.59l7.78-7.78 2.81-2.81c.8-.78.8-2.07 0-2.86zM5.41 20L4 18.59l7.72-7.72 1.47 1.35L5.41 20z\"/>\n",
              "  </svg>\n",
              "      </button>\n",
              "      \n",
              "  <style>\n",
              "    .colab-df-container {\n",
              "      display:flex;\n",
              "      flex-wrap:wrap;\n",
              "      gap: 12px;\n",
              "    }\n",
              "\n",
              "    .colab-df-convert {\n",
              "      background-color: #E8F0FE;\n",
              "      border: none;\n",
              "      border-radius: 50%;\n",
              "      cursor: pointer;\n",
              "      display: none;\n",
              "      fill: #1967D2;\n",
              "      height: 32px;\n",
              "      padding: 0 0 0 0;\n",
              "      width: 32px;\n",
              "    }\n",
              "\n",
              "    .colab-df-convert:hover {\n",
              "      background-color: #E2EBFA;\n",
              "      box-shadow: 0px 1px 2px rgba(60, 64, 67, 0.3), 0px 1px 3px 1px rgba(60, 64, 67, 0.15);\n",
              "      fill: #174EA6;\n",
              "    }\n",
              "\n",
              "    [theme=dark] .colab-df-convert {\n",
              "      background-color: #3B4455;\n",
              "      fill: #D2E3FC;\n",
              "    }\n",
              "\n",
              "    [theme=dark] .colab-df-convert:hover {\n",
              "      background-color: #434B5C;\n",
              "      box-shadow: 0px 1px 3px 1px rgba(0, 0, 0, 0.15);\n",
              "      filter: drop-shadow(0px 1px 2px rgba(0, 0, 0, 0.3));\n",
              "      fill: #FFFFFF;\n",
              "    }\n",
              "  </style>\n",
              "\n",
              "      <script>\n",
              "        const buttonEl =\n",
              "          document.querySelector('#df-de2031d5-cf35-4e48-9186-2955490aab06 button.colab-df-convert');\n",
              "        buttonEl.style.display =\n",
              "          google.colab.kernel.accessAllowed ? 'block' : 'none';\n",
              "\n",
              "        async function convertToInteractive(key) {\n",
              "          const element = document.querySelector('#df-de2031d5-cf35-4e48-9186-2955490aab06');\n",
              "          const dataTable =\n",
              "            await google.colab.kernel.invokeFunction('convertToInteractive',\n",
              "                                                     [key], {});\n",
              "          if (!dataTable) return;\n",
              "\n",
              "          const docLinkHtml = 'Like what you see? Visit the ' +\n",
              "            '<a target=\"_blank\" href=https://colab.research.google.com/notebooks/data_table.ipynb>data table notebook</a>'\n",
              "            + ' to learn more about interactive tables.';\n",
              "          element.innerHTML = '';\n",
              "          dataTable['output_type'] = 'display_data';\n",
              "          await google.colab.output.renderOutput(dataTable, element);\n",
              "          const docLink = document.createElement('div');\n",
              "          docLink.innerHTML = docLinkHtml;\n",
              "          element.appendChild(docLink);\n",
              "        }\n",
              "      </script>\n",
              "    </div>\n",
              "  </div>\n",
              "  "
            ]
          },
          "metadata": {},
          "execution_count": 77
        }
      ]
    },
    {
      "cell_type": "code",
      "source": [
        "# Instantiate and fit the best version of the model\n",
        "forest_tuned = RandomForestRegressor(max_depth=21, random_state=42)\n",
        "forest_tuned.fit(X_train, y_train)\n",
        "# Evaluate the model\n",
        "print(round(forest_tuned.score(X_train, y_train), 3))\n",
        "print(round(forest_tuned.score(X_test, y_test), 3))"
      ],
      "metadata": {
        "colab": {
          "base_uri": "https://localhost:8080/"
        },
        "id": "gGJgpyQ7Vx8M",
        "outputId": "a8179b13-2873-4974-bab5-abae622efc5e"
      },
      "execution_count": 78,
      "outputs": [
        {
          "output_type": "stream",
          "name": "stdout",
          "text": [
            "0.977\n",
            "0.834\n"
          ]
        }
      ]
    },
    {
      "cell_type": "markdown",
      "source": [
        "## 3) Evaluate your best model using multiple regression metrics\n",
        "\n"
      ],
      "metadata": {
        "id": "mxrYxpBnqHhz"
      }
    },
    {
      "cell_type": "code",
      "source": [
        "# Decision Tree is the best model because it still performs well on the training\n",
        "# data set with a R^2 of 0.959 and it has the highest R^2 of 0.846\n",
        "# I will be applying the different metrics on the decision tree model\n",
        "\n",
        "dt_train_pred = decision_tree_7.predict(X_train)\n",
        "dt_test_pred = decision_tree_7.predict(X_test)\n",
        "\n",
        "train_R2 = round(r2_score(y_train, dt_train_pred) , 3)\n",
        "test_R2 = round(r2_score(y_test, dt_test_pred), 3)\n",
        "\n",
        "print(f\"The R^2 value for the Training Model is: {train_R2}\")\n",
        "print(f\"The R^2 value for the Testing Model is: {test_R2}\")"
      ],
      "metadata": {
        "colab": {
          "base_uri": "https://localhost:8080/"
        },
        "id": "3lkpQ9uiWol_",
        "outputId": "9008fccf-917f-4fbe-b645-9575ab513207"
      },
      "execution_count": 90,
      "outputs": [
        {
          "output_type": "stream",
          "name": "stdout",
          "text": [
            "The R^2 value for the Training Model is: 0.959\n",
            "The R^2 value for the Testing Model is: 0.846\n"
          ]
        }
      ]
    },
    {
      "cell_type": "code",
      "source": [
        "# Using sklearn module to apply MAE metric to model \n",
        "\n",
        "train_MAE = round(mean_absolute_error(y_train, dt_train_pred), 2)\n",
        "test_MAE = round(mean_absolute_error(y_test, dt_test_pred), 2)\n",
        "print(f\"The MAE results for the training set is: {train_MAE}\")\n",
        "print(f\"The MAE results for the testing set is: {test_MAE}\")"
      ],
      "metadata": {
        "colab": {
          "base_uri": "https://localhost:8080/"
        },
        "id": "BhvJazzlatJ4",
        "outputId": "5f01094c-f258-4f88-d693-fa3a0c2aa0a9"
      },
      "execution_count": 91,
      "outputs": [
        {
          "output_type": "stream",
          "name": "stdout",
          "text": [
            "The MAE results for the training set is: 1.35\n",
            "The MAE results for the testing set is: 2.45\n"
          ]
        }
      ]
    },
    {
      "cell_type": "code",
      "source": [
        "# Using sklearn module to apply MSE metric to model \n",
        "\n",
        "train_MSE = round(mean_squared_error(y_train, dt_train_pred), 2)\n",
        "test_MSE = round(mean_squared_error(y_test, dt_test_pred), 2)\n",
        "\n",
        "print(f\"The MSE value for the training model is {train_MSE}\")\n",
        "print(f\"The MSE value for the testing model is {test_MSE}\")"
      ],
      "metadata": {
        "colab": {
          "base_uri": "https://localhost:8080/"
        },
        "id": "ZtHGuqrCbTv4",
        "outputId": "1fdba473-f964-45bb-e5b7-ebe0f51c15b8"
      },
      "execution_count": 92,
      "outputs": [
        {
          "output_type": "stream",
          "name": "stdout",
          "text": [
            "The MSE value for the training model is 3.68\n",
            "The MSE value for the testing model is 10.76\n"
          ]
        }
      ]
    },
    {
      "cell_type": "code",
      "source": [
        "# Using sklearn module to apply MSE metric to model \n",
        "\n",
        "train_RMSE = round(np.sqrt(train_MSE), 3)\n",
        "test_RMSE = round(np.sqrt(test_MSE), 3)\n",
        "\n",
        "print(f\"Model for training RMSE:  {train_RMSE}\")\n",
        "print(f\"Model for testing RMSE: {test_RMSE}\")"
      ],
      "metadata": {
        "colab": {
          "base_uri": "https://localhost:8080/"
        },
        "id": "LqQAf7W2beK1",
        "outputId": "415581f3-913a-4d6d-85f7-e46a10e18f9e"
      },
      "execution_count": 93,
      "outputs": [
        {
          "output_type": "stream",
          "name": "stdout",
          "text": [
            "Model for training RMSE:  1.918\n",
            "Model for testing RMSE: 3.28\n"
          ]
        }
      ]
    },
    {
      "cell_type": "markdown",
      "source": [
        "## 4) Explain in a text cell how your model will perform if deployed by referring to the metrics\n",
        "\n",
        "I have confidence in the model due to it's R^2 training score is approx 96%\n",
        "and it performed the best on the test set with a 85% score. The variance could be higher on the testing set, but considering how the other models performed it is the best current option. Ideally, more data should be gathered and a better more balanced model can be created.\n",
        "\n"
      ],
      "metadata": {
        "id": "0iaeGH57qJhW"
      }
    }
  ]
}